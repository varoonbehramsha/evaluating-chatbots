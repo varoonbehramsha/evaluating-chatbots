{
  "cells": [
    {
      "cell_type": "markdown",
      "metadata": {},
      "source": [
        "## Prerequisites\n",
        "1. Test Data Set: An Excel file (Google Sheet) containing questions and ideal answers, stored in your Google Drive. The sheet must have the following columns: question, context (ideal answer).\n",
        "2. A [Voiceflow Agent](https://developer.voiceflow.com/docs/step-2-create-assistant) and it's [API Key](https://developer.voiceflow.com/docs/step-1-get-api-key)."
      ]
    },
    {
      "cell_type": "code",
      "execution_count": null,
      "metadata": {
        "colab": {
          "base_uri": "https://localhost:8080/"
        },
        "id": "HnOHKcmknJNt",
        "outputId": "4cb334f3-dfda-4f1f-e915-fb22284a0123"
      },
      "outputs": [],
      "source": [
        "from google.colab import drive\n",
        "drive.mount('/content/drive')"
      ]
    },
    {
      "cell_type": "code",
      "execution_count": null,
      "metadata": {
        "id": "3afCdd_bnPty"
      },
      "outputs": [],
      "source": [
        "from google.colab import userdata\n",
        "import pandas as pd\n",
        "import json\n",
        "import requests\n",
        "import openpyxl"
      ]
    },
    {
      "cell_type": "markdown",
      "metadata": {
        "id": "W5vBrNmIjbsE"
      },
      "source": [
        "## Extract the list of questions from the Excel file into a JSON list"
      ]
    },
    {
      "cell_type": "code",
      "execution_count": null,
      "metadata": {
        "id": "Gvp3y_gFnSc_"
      },
      "outputs": [],
      "source": [
        "file_path = '/content/drive/My Drive/LLM Evaluations/llm_evals_test_data_with_context.xlsx'\n",
        "# Read the Excel file into a pandas DataFrame\n",
        "df = pd.read_excel(file_path, engine='openpyxl')\n",
        "faqs = df.to_dict(orient='records')\n",
        "print(faqs)"
      ]
    },
    {
      "cell_type": "markdown",
      "metadata": {
        "id": "Msjr58B1uVDO"
      },
      "source": [
        "## Launch a user session on **Voiceflow**\n",
        "Start a new chat session with the Voiceflow Chatbot."
      ]
    },
    {
      "cell_type": "code",
      "execution_count": null,
      "metadata": {
        "id": "cr9QlXjsp7pW"
      },
      "outputs": [],
      "source": [
        "api_url = \"https://general-runtime.voiceflow.com/state/user/user69/interact?logs=off\"\n",
        "api_key = userdata.get('VOICEFLOW_API_KEY')\n",
        "api_headers = {'content-Type': 'application/json','accept':'application/json','Authorization':api_key}\n",
        "\n",
        "def launch_session():\n",
        "    data = {\n",
        "      \"action\": {\n",
        "          \"type\": \"launch\"\n",
        "      },\n",
        "      \"config\": {\n",
        "        \"tts\": False,\n",
        "        \"stripSSML\": True,\n",
        "        \"stopAll\": True,\n",
        "        \"excludeTypes\": [\n",
        "            \"block\",\n",
        "            \"debug\",\n",
        "            \"flow\"\n",
        "          ]\n",
        "        }\n",
        "    }\n",
        "    response = requests.post(api_url, json=data, headers=api_headers)\n",
        "    print(response.text)\n",
        "\n",
        "launch_session()"
      ]
    },
    {
      "cell_type": "markdown",
      "metadata": {
        "id": "lggrWHGxujib"
      },
      "source": [
        "## Get answers from Voiceflow"
      ]
    },
    {
      "cell_type": "code",
      "execution_count": null,
      "metadata": {
        "id": "6hgLYSgI0XiM"
      },
      "outputs": [],
      "source": [
        "def get_answer(question):\n",
        "  print(f\"Question: {question}\")\n",
        "  data = {\n",
        "      \"action\": {\n",
        "          \"type\": \"text\",\n",
        "          \"payload\": question\n",
        "      },\n",
        "      \"config\": {\n",
        "        \"tts\": False,\n",
        "        \"stripSSML\": True,\n",
        "        \"stopAll\": True,\n",
        "        \"excludeTypes\": [\n",
        "            \"block\",\n",
        "            \"debug\",\n",
        "            \"flow\"\n",
        "          ]\n",
        "        }\n",
        "    }\n",
        "\n",
        "  response = requests.post(api_url, json=data, headers=api_headers)\n",
        "\n",
        "  # if request fails return 'Error', else return response\n",
        "  if response.status_code != 200:\n",
        "    return f\"Error:{response.text}\"\n",
        "\n",
        "  json_array = response.json()\n",
        "  print(f\"Response JSON: {json_array}\")\n",
        "  # Filter json_array to extract items where type = text\n",
        "  text_responses = [obj for obj in json_array if obj['type'] == 'text']\n",
        "  answer = text_responses[0]['payload']['message']\n",
        "  print(f\"Answer: {answer}\")\n",
        "  return answer"
      ]
    },
    {
      "cell_type": "code",
      "execution_count": null,
      "metadata": {
        "id": "OnhKq41UnWwB"
      },
      "outputs": [],
      "source": [
        "# Add answers from the chatbot to the JSON array containing questions\n",
        "def add_answers_to(json_list):\n",
        "    headers = {'Content-Type': 'application/json'}\n",
        "\n",
        "    for json_obj in faqs:\n",
        "        question = json_obj.get('question')\n",
        "        if question:\n",
        "                voiceflow_response = get_answer(question)\n",
        "\n",
        "                # Add the response to the JSON object\n",
        "                json_obj['response'] = voiceflow_response\n",
        "\n",
        "    return json_list\n",
        "\n",
        "json_list_with_answers = add_answers_to(faqs)\n",
        "# Print the processed JSON objects\n",
        "json_string = json.dumps(json_list_with_answers, indent=2)\n",
        "\n",
        "print(json_string)"
      ]
    },
    {
      "cell_type": "markdown",
      "metadata": {
        "id": "rQ2S_x5u3Alj"
      },
      "source": [
        "## Generate an Excel file from the updated JSON"
      ]
    },
    {
      "cell_type": "code",
      "execution_count": null,
      "metadata": {
        "id": "rLFTdeg53Cse"
      },
      "outputs": [],
      "source": [
        "output_file_path = '/content/drive/My Drive/LLM Evaluations/llm_evals_test_data_with_response.xlsx'\n",
        "df = pd.DataFrame(json_list_with_answers)\n",
        "df.to_excel(output_file_path, index=False, engine='openpyxl')"
      ]
    }
  ],
  "metadata": {
    "colab": {
      "authorship_tag": "ABX9TyNiQNUpxTP05+/beH18fERz",
      "provenance": []
    },
    "kernelspec": {
      "display_name": "Python 3",
      "name": "python3"
    },
    "language_info": {
      "name": "python"
    }
  },
  "nbformat": 4,
  "nbformat_minor": 0
}
