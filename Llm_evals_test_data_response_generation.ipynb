{
  "nbformat": 4,
  "nbformat_minor": 0,
  "metadata": {
    "colab": {
      "provenance": [],
      "authorship_tag": "ABX9TyNiQNUpxTP05+/beH18fERz"
    },
    "kernelspec": {
      "name": "python3",
      "display_name": "Python 3"
    },
    "language_info": {
      "name": "python"
    }
  },
  "cells": [
    {
      "cell_type": "code",
      "execution_count": null,
      "metadata": {
        "colab": {
          "base_uri": "https://localhost:8080/"
        },
        "id": "HnOHKcmknJNt",
        "outputId": "4cb334f3-dfda-4f1f-e915-fb22284a0123"
      },
      "outputs": [],
      "source": [
        "from google.colab import drive\n",
        "drive.mount('/content/drive')"
      ]
    },
    {
      "cell_type": "code",
      "source": [
        "from google.colab import userdata\n",
        "import pandas as pd\n",
        "import json\n",
        "import requests\n",
        "import openpyxl"
      ],
      "metadata": {
        "id": "3afCdd_bnPty"
      },
      "execution_count": null,
      "outputs": []
    },
    {
      "cell_type": "markdown",
      "source": [
        "##Extract the list of questions from the Excel file into a JSON list"
      ],
      "metadata": {
        "id": "W5vBrNmIjbsE"
      }
    },
    {
      "cell_type": "code",
      "source": [
        "file_path = '/content/drive/My Drive/LLM Evaluations/llm_evals_test_data_with_context.xlsx'\n",
        "# Read the Excel file into a pandas DataFrame\n",
        "df = pd.read_excel(file_path, engine='openpyxl')\n",
        "faqs = df.to_dict(orient='records')\n",
        "print(faqs)"
      ],
      "metadata": {
        "id": "Gvp3y_gFnSc_"
      },
      "execution_count": null,
      "outputs": []
    },
    {
      "cell_type": "markdown",
      "source": [
        "## Launch a user session on **Voiceflow**\n",
        "Start a new chat session with the Voiceflow Chatbot."
      ],
      "metadata": {
        "id": "Msjr58B1uVDO"
      }
    },
    {
      "cell_type": "code",
      "source": [
        "api_url = \"https://general-runtime.voiceflow.com/state/user/user69/interact?logs=off\"\n",
        "api_key = userdata.get('VOICEFLOW_API_KEY')\n",
        "api_headers = {'content-Type': 'application/json','accept':'application/json','Authorization':api_key}\n",
        "\n",
        "def launch_session():\n",
        "    data = {\n",
        "      \"action\": {\n",
        "          \"type\": \"launch\"\n",
        "      },\n",
        "      \"config\": {\n",
        "        \"tts\": False,\n",
        "        \"stripSSML\": True,\n",
        "        \"stopAll\": True,\n",
        "        \"excludeTypes\": [\n",
        "            \"block\",\n",
        "            \"debug\",\n",
        "            \"flow\"\n",
        "          ]\n",
        "        }\n",
        "    }\n",
        "    response = requests.post(api_url, json=data, headers=api_headers)\n",
        "    print(response.text)\n",
        "\n",
        "launch_session()"
      ],
      "metadata": {
        "id": "cr9QlXjsp7pW"
      },
      "execution_count": null,
      "outputs": []
    },
    {
      "cell_type": "markdown",
      "source": [
        "## Get answers from Voiceflow"
      ],
      "metadata": {
        "id": "lggrWHGxujib"
      }
    },
    {
      "cell_type": "code",
      "source": [
        "def get_answer(question):\n",
        "  print(f\"Question: {question}\")\n",
        "  data = {\n",
        "      \"action\": {\n",
        "          \"type\": \"text\",\n",
        "          \"payload\": question\n",
        "      },\n",
        "      \"config\": {\n",
        "        \"tts\": False,\n",
        "        \"stripSSML\": True,\n",
        "        \"stopAll\": True,\n",
        "        \"excludeTypes\": [\n",
        "            \"block\",\n",
        "            \"debug\",\n",
        "            \"flow\"\n",
        "          ]\n",
        "        }\n",
        "    }\n",
        "\n",
        "  response = requests.post(api_url, json=data, headers=api_headers)\n",
        "\n",
        "  # if request fails return 'Error', else return response\n",
        "  if response.status_code != 200:\n",
        "    return f\"Error:{response.text}\"\n",
        "\n",
        "  json_array = response.json()\n",
        "  print(f\"Response JSON: {json_array}\")\n",
        "  # Filter json_array to extract items where type = text\n",
        "  text_responses = [obj for obj in json_array if obj['type'] == 'text']\n",
        "  answer = text_responses[0]['payload']['message']\n",
        "  print(f\"Answer: {answer}\")\n",
        "  return answer"
      ],
      "metadata": {
        "id": "6hgLYSgI0XiM"
      },
      "execution_count": null,
      "outputs": []
    },
    {
      "cell_type": "code",
      "source": [
        "# Add answers from the chatbot to the JSON array containing questions\n",
        "def add_answers_to(json_list):\n",
        "    headers = {'Content-Type': 'application/json'}\n",
        "\n",
        "    for json_obj in faqs:\n",
        "        question = json_obj.get('question')\n",
        "        if question:\n",
        "                voiceflow_response = get_answer(question)\n",
        "\n",
        "                # Add the response to the JSON object\n",
        "                json_obj['response'] = voiceflow_response\n",
        "\n",
        "    return json_list\n",
        "\n",
        "json_list_with_answers = add_answers_to(faqs)\n",
        "# Print the processed JSON objects\n",
        "json_string = json.dumps(json_list_with_answers, indent=2)\n",
        "\n",
        "print(json_string)"
      ],
      "metadata": {
        "id": "OnhKq41UnWwB"
      },
      "execution_count": null,
      "outputs": []
    },
    {
      "cell_type": "markdown",
      "source": [
        "## Generate an Excel file from the updated JSON"
      ],
      "metadata": {
        "id": "rQ2S_x5u3Alj"
      }
    },
    {
      "cell_type": "code",
      "source": [
        "output_file_path = '/content/drive/My Drive/LLM Evaluations/llm_evals_test_data_with_response.xlsx'\n",
        "df = pd.DataFrame(json_list_with_answers)\n",
        "df.to_excel(output_file_path, index=False, engine='openpyxl')"
      ],
      "metadata": {
        "id": "rLFTdeg53Cse"
      },
      "execution_count": null,
      "outputs": []
    }
  ]
}
